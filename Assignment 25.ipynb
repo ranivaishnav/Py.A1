{
 "cells": [
  {
   "cell_type": "markdown",
   "id": "134805c6",
   "metadata": {},
   "source": [
    "## Assignment 25"
   ]
  },
  {
   "cell_type": "markdown",
   "id": "bb6dd425",
   "metadata": {},
   "source": [
    "## 1) . What is the difference between enclosing a list comprehension in square brackets and parentheses?"
   ]
  },
  {
   "cell_type": "markdown",
   "id": "2e737998",
   "metadata": {},
   "source": [
    "List Comprehension with square brackets produces list.\n",
    "List Comprehension with parentheses creates generators"
   ]
  },
  {
   "cell_type": "code",
   "execution_count": 1,
   "id": "2736b21d",
   "metadata": {},
   "outputs": [
    {
     "data": {
      "text/plain": [
       "[0, 1, 2, 3, 4, 5, 6, 7, 8, 9]"
      ]
     },
     "execution_count": 1,
     "metadata": {},
     "output_type": "execute_result"
    }
   ],
   "source": [
    "lstSquare = [i for i in range(10)]\n",
    "lstSquare"
   ]
  },
  {
   "cell_type": "markdown",
   "id": "633c9666",
   "metadata": {},
   "source": [
    "If you are familiar with list comprehensions, then this look likes it might create a tuple which is (1,2,3,4,....), but it is actually a generator expression - this expression is a one time only iterator which will yield the values 1, 2, 3, 4.... in that order"
   ]
  },
  {
   "cell_type": "code",
   "execution_count": 2,
   "id": "6896acf7",
   "metadata": {},
   "outputs": [
    {
     "data": {
      "text/plain": [
       "<generator object <genexpr> at 0x000001A7A79E47B0>"
      ]
     },
     "execution_count": 2,
     "metadata": {},
     "output_type": "execute_result"
    }
   ],
   "source": [
    "lstParanthesis = (i for i in range(10))\n",
    "lstParanthesis"
   ]
  },
  {
   "cell_type": "code",
   "execution_count": 3,
   "id": "37d18ec5",
   "metadata": {},
   "outputs": [
    {
     "data": {
      "text/plain": [
       "[0, 1, 2, 3, 4, 5, 6, 7, 8, 9]"
      ]
     },
     "execution_count": 3,
     "metadata": {},
     "output_type": "execute_result"
    }
   ],
   "source": [
    "list(lstParanthesis)"
   ]
  },
  {
   "cell_type": "markdown",
   "id": "72961cf8",
   "metadata": {},
   "source": [
    "## 2) What is the relationship between generators and iterators?"
   ]
  },
  {
   "cell_type": "markdown",
   "id": "34530b9f",
   "metadata": {},
   "source": [
    "An iterator is an object which contains a countable number of values and it is used to iterate over iterable objects like list, tuples etc\n",
    "Using an iterator-\n",
    "iter() keyword is used to create an iterator containing an iterable object.\n",
    "next() keyword is used to call the next element in the iterable object.\n",
    "\n",
    "Generator\n",
    "It is another way of creating iterators in a simple way where it uses the keyword “yield” instead of returning it in a defined function\n",
    "Generators are implemented using a function\n",
    "Here, the yield function returns the data without affecting or exiting the function. \n",
    "It will return a sequence of data in an iterable format where we need to iterate over the sequence to use the data as they won’t store the entire sequence in the memory\n",
    "By using next() function we can iterate the output of generator function"
   ]
  },
  {
   "cell_type": "code",
   "execution_count": 4,
   "id": "20e05515",
   "metadata": {},
   "outputs": [
    {
     "name": "stdout",
     "output_type": "stream",
     "text": [
      "Apple\n",
      "Orange\n",
      "Banana\n"
     ]
    }
   ],
   "source": [
    "# iterator\n",
    "iter_list = iter(['Apple', 'Orange', 'Banana'])\n",
    "print(next(iter_list))\n",
    "print(next(iter_list))\n",
    "print(next(iter_list))"
   ]
  },
  {
   "cell_type": "code",
   "execution_count": 5,
   "id": "070d94e4",
   "metadata": {},
   "outputs": [],
   "source": [
    "# GEnerator \n",
    "\n",
    "def sq_numbers(n):\n",
    "    for i in range(1, n+1):\n",
    "        yield i*i"
   ]
  },
  {
   "cell_type": "code",
   "execution_count": 6,
   "id": "73c9a648",
   "metadata": {},
   "outputs": [
    {
     "data": {
      "text/plain": [
       "<generator object sq_numbers at 0x000001A7A79E4820>"
      ]
     },
     "execution_count": 6,
     "metadata": {},
     "output_type": "execute_result"
    }
   ],
   "source": [
    "sq_numbers(8)"
   ]
  },
  {
   "cell_type": "code",
   "execution_count": 7,
   "id": "820b4e18",
   "metadata": {},
   "outputs": [],
   "source": [
    "lst = sq_numbers(8)"
   ]
  },
  {
   "cell_type": "code",
   "execution_count": 8,
   "id": "3a4f72bc",
   "metadata": {},
   "outputs": [
    {
     "data": {
      "text/plain": [
       "<generator object sq_numbers at 0x000001A7A79E49E0>"
      ]
     },
     "execution_count": 8,
     "metadata": {},
     "output_type": "execute_result"
    }
   ],
   "source": [
    "lst"
   ]
  },
  {
   "cell_type": "code",
   "execution_count": 9,
   "id": "579f2f1c",
   "metadata": {},
   "outputs": [
    {
     "name": "stdout",
     "output_type": "stream",
     "text": [
      "1\n",
      "4\n",
      "9\n",
      "16\n"
     ]
    }
   ],
   "source": [
    "print(next(lst))\n",
    "print(next(lst))\n",
    "print(next(lst))\n",
    "print(next(lst))"
   ]
  },
  {
   "cell_type": "markdown",
   "id": "bfbbeb6a",
   "metadata": {},
   "source": [
    "## 3) What are the signs that a function is a generator function?"
   ]
  },
  {
   "cell_type": "markdown",
   "id": "98ea34d9",
   "metadata": {},
   "source": [
    "If a function contains at least one yield statement (it may contain other yield or return statements), it becomes a generator function. Both yield and return will return some value from a function."
   ]
  },
  {
   "cell_type": "markdown",
   "id": "af5cc1cf",
   "metadata": {},
   "source": [
    "## 4) What is the purpose of a yield statement?"
   ]
  },
  {
   "cell_type": "markdown",
   "id": "b8aafc95",
   "metadata": {},
   "source": [
    "A yield statement looks much like a return statement, except that instead of stopping execution of the function and \n",
    "returning, yield instead provides a value to the code looping over the generator and pauses execution of the generator \n",
    "function"
   ]
  },
  {
   "cell_type": "markdown",
   "id": "5aab2527",
   "metadata": {},
   "source": [
    "## 5) What is the relationship between map calls and list comprehensions? Make a comparison and contrast between the two."
   ]
  },
  {
   "cell_type": "markdown",
   "id": "9bb40467",
   "metadata": {},
   "source": [
    "Map function:\n",
    "Suppose we have a function and we want to compute this function for different values in a single line of code . This is where map() function plays its role. map() function returns a map object(which is an iterator) of the results after applying the given function to each item of a given iterable (list, tuple etc.)\n",
    "\n",
    "If we already have a function defined, it is often good to use map For example, map(sum, myLists) is more neat than [sum(x) for x in myLists]. You gain the elegance of not having to make up a dummy variable (e.g. sum(x) for x... or sum(_) for _... or sum(readableName) for readableName...) which you have to type twice, just to iterate.\n",
    "\n",
    "List Comprehension:\n",
    "List Comprehension is a substitute for the lambda function, map(), filter() and reduce()"
   ]
  },
  {
   "cell_type": "markdown",
   "id": "b993eeb3",
   "metadata": {},
   "source": [
    "Comparision :\n",
    "    1. List comprehension is more concise and easier to read as compared to map\n",
    "    2. List comprehension allows filtering. In map, we have no such facility\n",
    "    For example, to print all even numbers in range of 100, we can write [n for n in range(100) if n%2 == 0]. There is \n",
    "    no alternate for it in map\n",
    "    3. List comprehension are used when a list of results is required, where as map only returns a map object and does \n",
    "    not return any list.\n",
    "    4. List comprehension is faster than map when we need to evaluate expressions that are too long or complicated \n",
    "    to express\n",
    "    5. Map is faster in case of calling an already defined function (as no lambda is required)"
   ]
  }
 ],
 "metadata": {
  "kernelspec": {
   "display_name": "Python 3 (ipykernel)",
   "language": "python",
   "name": "python3"
  },
  "language_info": {
   "codemirror_mode": {
    "name": "ipython",
    "version": 3
   },
   "file_extension": ".py",
   "mimetype": "text/x-python",
   "name": "python",
   "nbconvert_exporter": "python",
   "pygments_lexer": "ipython3",
   "version": "3.9.7"
  }
 },
 "nbformat": 4,
 "nbformat_minor": 5
}
