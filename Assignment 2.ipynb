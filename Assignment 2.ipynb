{
 "cells": [
  {
   "cell_type": "raw",
   "id": "c3072cf8",
   "metadata": {},
   "source": [
    "1. what are the two values of the boolen data type? how do you write them?\n",
    "     True False"
   ]
  },
  {
   "cell_type": "raw",
   "id": "1fcaf42c",
   "metadata": {},
   "source": [
    "2. what are the three different types of Boolen operators?\n",
    "    AND, OR, NOT"
   ]
  },
  {
   "cell_type": "code",
   "execution_count": null,
   "id": "9279da9b",
   "metadata": {},
   "outputs": [],
   "source": [
    "3. Make a list of each Boolen operators truth table\n",
    "   #AND OPERATOR\n",
    "        True && True = True\n",
    "        False && True = False\n",
    "        True && False = False\n",
    "        False && False = False\n",
    "        \n",
    "   #OR OPERATOR\n",
    "        True or True = True\n",
    "        True or True = True \n",
    "        False or True = True\n",
    "        False or False = False\n",
    "        \n",
    "   #NOT OPERATOR \n",
    "        False = True\n",
    "        True = False\n",
    "        "
   ]
  },
  {
   "cell_type": "code",
   "execution_count": null,
   "id": "75b6c3bd",
   "metadata": {},
   "outputs": [],
   "source": [
    "#4. What are the values of the following expression?\n",
    "    (5<4) and (3==5)\n",
    "       =False\n",
    "    not (5>4)\n",
    "       =False\n",
    "    (5>4) or (3==5)\n",
    "       =True\n",
    "    not ((5>4) or (3==5))\n",
    "       =False\n",
    "    (True and True) and (True==False)\n",
    "       =False\n",
    "    (not False)or (not True)   \n",
    "       =True\n",
    "    "
   ]
  },
  {
   "cell_type": "raw",
   "id": "ea1dc1fb",
   "metadata": {},
   "source": [
    "5. What are the six comparison operator?\n",
    "    Equal to (==)\n",
    "    not Equal to (!=)\n",
    "    greater than (>)\n",
    "    less than (<)\n",
    "    greater than or equal to (>=)\n",
    "    less than or equal to (<=)"
   ]
  },
  {
   "cell_type": "raw",
   "id": "6e3b48a1",
   "metadata": {},
   "source": [
    "6. How do you tell the difference between the equal to and assignment operator? Describe a condition and when you would use one.\n",
    "    \"=\" it is used for assigning the value to a variable\n",
    "    \"==\" it is used for comparing the two value. it returns 1 if the value are equal otherwise returns 0."
   ]
  },
  {
   "cell_type": "code",
   "execution_count": null,
   "id": "70983f88",
   "metadata": {
    "scrolled": true
   },
   "outputs": [],
   "source": [
    "7. Identify the three blocks in this code?\n",
    "    spam==0\n",
    "    if spam==10:\n",
    "        print('eggs')\n",
    "    if spam > 5:\n",
    "        print ('bacon')\n",
    "    else:\n",
    "        print('ham')\n",
    "        print('spam')\n",
    "        print('spam')\n",
    "        \n",
    "       '''The three blocks are everything inside the if statement and the lines print('bacon') and print('ham').\n",
    "        print('eggs') if spam > 5: print('bacon') else: print('ham') print('spam')'''\n"
   ]
  },
  {
   "cell_type": "code",
   "execution_count": null,
   "id": "d8c2c2a3",
   "metadata": {
    "scrolled": false
   },
   "outputs": [],
   "source": [
    "#8. Write code that prints Hello if 1 is stored in spam, Prints Howdy if 2 is stored in spam, and prints Greetings! if anything else is stored in spam\n",
    "    spam=int(input())\n",
    "    \n",
    "        if spam==1:\n",
    "               print('Hello')\n",
    "        elif spam==2:\n",
    "               print('Howdy')\n",
    "        else: \n",
    "               print('Greetings!')\n",
    "        "
   ]
  }
 ],
 "metadata": {
  "kernelspec": {
   "display_name": "Python 3 (ipykernel)",
   "language": "python",
   "name": "python3"
  },
  "language_info": {
   "codemirror_mode": {
    "name": "ipython",
    "version": 3
   },
   "file_extension": ".py",
   "mimetype": "text/x-python",
   "name": "python",
   "nbconvert_exporter": "python",
   "pygments_lexer": "ipython3",
   "version": "3.9.7"
  }
 },
 "nbformat": 4,
 "nbformat_minor": 5
}
