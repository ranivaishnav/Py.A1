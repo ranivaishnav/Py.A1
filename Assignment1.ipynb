{
 "cells": [
  {
   "cell_type": "raw",
   "id": "48ea5f1a",
   "metadata": {},
   "source": [
    "1. In the below elements which of them are values or an expression? eg:- values can be integer or string and expressions will be mathematical operators.\n",
    "*        - expression\n",
    "'hello'  - value\n",
    "-87.8    - value\n",
    "-        - expression\n",
    "/        - expression\n",
    "+        - expression\n",
    "6        - value\n"
   ]
  },
  {
   "cell_type": "raw",
   "id": "a14b7936",
   "metadata": {},
   "source": [
    "2. What is the difference between string and variable?\n",
    "   String is a collection of alphabets, words or other character wrapped inside single, double or triple quotes.\n",
    "   Variable is a reserved memory location to store values"
   ]
  },
  {
   "cell_type": "raw",
   "id": "9abd447e",
   "metadata": {},
   "source": [
    "3. Describe three different data types.\n",
    "   integer(int)- A variables can store the data or number as an integer in python.\n",
    "   Floating point(float)- This data type is used to store decimal numbers in python like 0.5, 1.0, -1.25\n",
    "   String(str)- String is a collection of alphabets, words or other character wrapped inside single, double or triple quotes.\n"
   ]
  },
  {
   "cell_type": "raw",
   "id": "b44dc956",
   "metadata": {},
   "source": [
    "4. What is an expression made up of? What do all expressions do?\n",
    "   An expression is a combination of values and operators, All expression evaluates to a single value"
   ]
  },
  {
   "cell_type": "raw",
   "id": "0ef24212",
   "metadata": {},
   "source": [
    "5. This assignment statements, like spam = 10. What is the difference between an expression and a statement?\n",
    "   An expression evaluates to a single value, evaluation of an expression always produces a result value and statement doesn't"
   ]
  },
  {
   "cell_type": "code",
   "execution_count": 3,
   "id": "9f9c03cb",
   "metadata": {},
   "outputs": [
    {
     "data": {
      "text/plain": [
       "23"
      ]
     },
     "execution_count": 3,
     "metadata": {},
     "output_type": "execute_result"
    }
   ],
   "source": [
    "#6. After running the following code, what does the variable bacon contain?\n",
    "bacon = 22\n",
    "bacon + 1"
   ]
  },
  {
   "cell_type": "code",
   "execution_count": 4,
   "id": "7bb8077e",
   "metadata": {},
   "outputs": [
    {
     "data": {
      "text/plain": [
       "'spamspamspam'"
      ]
     },
     "execution_count": 4,
     "metadata": {},
     "output_type": "execute_result"
    }
   ],
   "source": [
    "#7. What should the values of the following two terms be?\n",
    "'spam' + 'spamspam'\n",
    "'spam' * 3"
   ]
  },
  {
   "cell_type": "raw",
   "id": "962661a9",
   "metadata": {},
   "source": [
    "8. Why is eggs a valid variable name while 100 is invalid?\n",
    "   Because variable names cannot begin with number"
   ]
  },
  {
   "cell_type": "raw",
   "id": "2b182879",
   "metadata": {},
   "source": [
    "9. What three functions can be used to get the integer, floating-point number, or string version of a value?\n",
    "   int(), float(), str() used to get the integer, floating-point number, or string version of a value."
   ]
  },
  {
   "cell_type": "code",
   "execution_count": 5,
   "id": "505aff87",
   "metadata": {},
   "outputs": [
    {
     "ename": "TypeError",
     "evalue": "can only concatenate str (not \"int\") to str",
     "output_type": "error",
     "traceback": [
      "\u001b[1;31m---------------------------------------------------------------------------\u001b[0m",
      "\u001b[1;31mTypeError\u001b[0m                                 Traceback (most recent call last)",
      "\u001b[1;32mC:\\Users\\RANIVA~1\\AppData\\Local\\Temp/ipykernel_15428/1361629906.py\u001b[0m in \u001b[0;36m<module>\u001b[1;34m\u001b[0m\n\u001b[0;32m      1\u001b[0m \u001b[1;31m#10. Why does this expression cause an error? How can you fix it?\u001b[0m\u001b[1;33m\u001b[0m\u001b[1;33m\u001b[0m\u001b[0m\n\u001b[1;32m----> 2\u001b[1;33m \u001b[1;34m'I have eaten '\u001b[0m \u001b[1;33m+\u001b[0m \u001b[1;36m99\u001b[0m \u001b[1;33m+\u001b[0m \u001b[1;34m' burritos.'\u001b[0m\u001b[1;33m\u001b[0m\u001b[1;33m\u001b[0m\u001b[0m\n\u001b[0m",
      "\u001b[1;31mTypeError\u001b[0m: can only concatenate str (not \"int\") to str"
     ]
    }
   ],
   "source": [
    "#10. Why does this expression cause an error? How can you fix it?\n",
    "'I have eaten ' + 99 + ' burritos.'\n",
    "because here 99 is an integer, only strings can be concatenate with other strings"
   ]
  },
  {
   "cell_type": "code",
   "execution_count": 6,
   "id": "e146ec49",
   "metadata": {},
   "outputs": [
    {
     "data": {
      "text/plain": [
       "'I have eaten 99 burritos.'"
      ]
     },
     "execution_count": 6,
     "metadata": {},
     "output_type": "execute_result"
    }
   ],
   "source": [
    "#by wrapping the number with double quotes we can fix it\n",
    "'I have eaten ' + '99' + ' burritos.'"
   ]
  }
 ],
 "metadata": {
  "kernelspec": {
   "display_name": "Python 3 (ipykernel)",
   "language": "python",
   "name": "python3"
  },
  "language_info": {
   "codemirror_mode": {
    "name": "ipython",
    "version": 3
   },
   "file_extension": ".py",
   "mimetype": "text/x-python",
   "name": "python",
   "nbconvert_exporter": "python",
   "pygments_lexer": "ipython3",
   "version": "3.9.7"
  }
 },
 "nbformat": 4,
 "nbformat_minor": 5
}
