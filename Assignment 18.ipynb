{
 "cells": [
  {
   "cell_type": "markdown",
   "id": "0e7b8add",
   "metadata": {},
   "source": [
    "## Assignment 18"
   ]
  },
  {
   "cell_type": "markdown",
   "id": "a8c402c5",
   "metadata": {},
   "source": [
    "## 1. Create a zoo.py file first. Define the hours() function, which prints the string 'Open 9-5 daily'. Then, use the interactive interpreter to import the zoo module and call its hours() function."
   ]
  },
  {
   "cell_type": "code",
   "execution_count": null,
   "id": "5c330995",
   "metadata": {},
   "outputs": [],
   "source": [
    "import zoo\n",
    "from importlib import reload\n",
    "reload(zoo)\n",
    "\n",
    "zoo.hours()"
   ]
  },
  {
   "cell_type": "markdown",
   "id": "e9770f37",
   "metadata": {},
   "source": [
    "## 2. In the interactive interpreter, import the zoo module as menagerie and call its hours() function."
   ]
  },
  {
   "cell_type": "code",
   "execution_count": null,
   "id": "ab792e4c",
   "metadata": {},
   "outputs": [],
   "source": [
    "import zoo as menagerie"
   ]
  },
  {
   "cell_type": "code",
   "execution_count": null,
   "id": "d6f2f1bf",
   "metadata": {},
   "outputs": [],
   "source": [
    "menagerie.hours()"
   ]
  },
  {
   "cell_type": "markdown",
   "id": "31b624e3",
   "metadata": {},
   "source": [
    "## 3. Using the interpreter, explicitly import and call the hours() function from zoo."
   ]
  },
  {
   "cell_type": "code",
   "execution_count": null,
   "id": "b9bb51e1",
   "metadata": {},
   "outputs": [],
   "source": [
    "from zoo import hours"
   ]
  },
  {
   "cell_type": "code",
   "execution_count": null,
   "id": "3f34270d",
   "metadata": {},
   "outputs": [],
   "source": [
    "hours()"
   ]
  },
  {
   "cell_type": "markdown",
   "id": "fe71de66",
   "metadata": {},
   "source": [
    "## 4. Import the hours() function as info and call it."
   ]
  },
  {
   "cell_type": "code",
   "execution_count": null,
   "id": "0d220e4a",
   "metadata": {},
   "outputs": [],
   "source": [
    "from zoo import hours as info"
   ]
  },
  {
   "cell_type": "code",
   "execution_count": null,
   "id": "2f73876a",
   "metadata": {},
   "outputs": [],
   "source": [
    "info()"
   ]
  },
  {
   "cell_type": "markdown",
   "id": "bc4a0fd4",
   "metadata": {},
   "source": [
    "## 5. Create a plain dictionary with the key-value pairs 'a': 1, 'b': 2, and 'c': 3, and print it out."
   ]
  },
  {
   "cell_type": "code",
   "execution_count": 6,
   "id": "80ff8cb9",
   "metadata": {},
   "outputs": [],
   "source": [
    "plain = {'a': 1, 'b': 2, 'c': 3}"
   ]
  },
  {
   "cell_type": "code",
   "execution_count": 7,
   "id": "0bf915fc",
   "metadata": {},
   "outputs": [
    {
     "data": {
      "text/plain": [
       "{'a': 1, 'b': 2, 'c': 3}"
      ]
     },
     "execution_count": 7,
     "metadata": {},
     "output_type": "execute_result"
    }
   ],
   "source": [
    "plain"
   ]
  },
  {
   "cell_type": "markdown",
   "id": "76c96e57",
   "metadata": {},
   "source": [
    "## 6.Make an OrderedDict called fancy from the same pairs listed in 5 and print it. Did it print in the same order as plain?"
   ]
  },
  {
   "cell_type": "code",
   "execution_count": 8,
   "id": "59934d67",
   "metadata": {},
   "outputs": [],
   "source": [
    "from collections import OrderedDict"
   ]
  },
  {
   "cell_type": "code",
   "execution_count": 9,
   "id": "6c0aee49",
   "metadata": {},
   "outputs": [],
   "source": [
    "fancy = OrderedDict([('a', 1), ('b', 2), ('c', 3)])"
   ]
  },
  {
   "cell_type": "code",
   "execution_count": 10,
   "id": "76b92e72",
   "metadata": {},
   "outputs": [
    {
     "data": {
      "text/plain": [
       "OrderedDict([('a', 1), ('b', 2), ('c', 3)])"
      ]
     },
     "execution_count": 10,
     "metadata": {},
     "output_type": "execute_result"
    }
   ],
   "source": [
    "fancy "
   ]
  },
  {
   "cell_type": "markdown",
   "id": "8ff0ad7f",
   "metadata": {},
   "source": [
    "## 7. Make a default dictionary called dict_of_lists and pass it the argument list. Make the list dict_of_lists['a'] and append the value 'something for a' to it in one assignment. Print dict_of_lists['a']."
   ]
  },
  {
   "cell_type": "code",
   "execution_count": 11,
   "id": "df142db6",
   "metadata": {},
   "outputs": [],
   "source": [
    "from collections import defaultdict"
   ]
  },
  {
   "cell_type": "code",
   "execution_count": 12,
   "id": "a9542607",
   "metadata": {},
   "outputs": [],
   "source": [
    "dict_of_lists = defaultdict(list)"
   ]
  },
  {
   "cell_type": "code",
   "execution_count": 13,
   "id": "bad2a162",
   "metadata": {},
   "outputs": [],
   "source": [
    " dict_of_lists['a'].append('something for a')"
   ]
  },
  {
   "cell_type": "code",
   "execution_count": 14,
   "id": "d33fa0c3",
   "metadata": {},
   "outputs": [
    {
     "data": {
      "text/plain": [
       "['something for a']"
      ]
     },
     "execution_count": 14,
     "metadata": {},
     "output_type": "execute_result"
    }
   ],
   "source": [
    "dict_of_lists['a']"
   ]
  }
 ],
 "metadata": {
  "kernelspec": {
   "display_name": "Python 3 (ipykernel)",
   "language": "python",
   "name": "python3"
  },
  "language_info": {
   "codemirror_mode": {
    "name": "ipython",
    "version": 3
   },
   "file_extension": ".py",
   "mimetype": "text/x-python",
   "name": "python",
   "nbconvert_exporter": "python",
   "pygments_lexer": "ipython3",
   "version": "3.9.7"
  }
 },
 "nbformat": 4,
 "nbformat_minor": 5
}
