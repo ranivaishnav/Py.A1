{
 "cells": [
  {
   "cell_type": "markdown",
   "id": "862ddb8c",
   "metadata": {},
   "source": [
    "1. Why are functions are advantageous in your program?\n",
    "    The advantages of using functions are\n",
    "       Reducing duplication of code\n",
    "       Decomposing complex problems into simpler pieces\n",
    "       Improving clarity of the code\n",
    "       Reuse of code"
   ]
  },
  {
   "cell_type": "markdown",
   "id": "3c850472",
   "metadata": {},
   "source": [
    "2. When does the code in a function execute: when the function is defined or when the function is called?\n",
    "       The code in a function executes when the function is called, not when the function is defined."
   ]
  },
  {
   "cell_type": "markdown",
   "id": "e36cf033",
   "metadata": {},
   "source": [
    "3. What statement creates a function?\n",
    "\n",
    "        The def functionName() createes a function\n"
   ]
  },
  {
   "cell_type": "markdown",
   "id": "c43ec0a3",
   "metadata": {},
   "source": [
    "4. What is the difference between a function and a function call?\n",
    "         A function:is a block of code that does a particular operation and returns a result. It usually accepts inputs as \n",
    "         parameters and returns a result. The parameters are not mandatory. \n",
    "         A Function call :it is the code used to pass control to a function"
   ]
  },
  {
   "cell_type": "markdown",
   "id": "abf2b1e4",
   "metadata": {},
   "source": [
    "5. How many global scopes are there in a Python program? How many local scopes?\n",
    "         There is one global scope, and a local scope is created whenever a function is called"
   ]
  },
  {
   "cell_type": "markdown",
   "id": "508b16cd",
   "metadata": {},
   "source": [
    "6. What happens to variables in a local scope when the function call returns?\n",
    "          When a function returns, the local scope is destroyed, and all the variables in it are forgotten. we will not be able to access the out side the function\n"
   ]
  },
  {
   "cell_type": "markdown",
   "id": "a244ecea",
   "metadata": {},
   "source": [
    "7. What is the concept of a return value? Is it possible to have a return value in an expression?\n",
    "           A return value is the value that a function call evaluates to. A return value can be used as part of an expression, Like any value\n"
   ]
  },
  {
   "cell_type": "markdown",
   "id": "d76fcc75",
   "metadata": {},
   "source": [
    "8. If a function does not have a return statement, what is the return value of a call to that function?\n",
    "           If there is no return statement for a function, its return value is None\n"
   ]
  },
  {
   "cell_type": "markdown",
   "id": "b6b32b8a",
   "metadata": {},
   "source": [
    "9. How do you make a function variable refer to the global variable?\n",
    "            By representing a valible by global keywaord in the body of a function Example : global a"
   ]
  },
  {
   "cell_type": "markdown",
   "id": "bfc3fff0",
   "metadata": {},
   "source": [
    "10. What is the data type of None?\n",
    "            The data type of none is NoneType"
   ]
  },
  {
   "cell_type": "markdown",
   "id": "010b432b",
   "metadata": {},
   "source": [
    "11. What does the sentence import areallyourpetsnamederic do?\n",
    "          areallyourpetsnamederic ia not a python module. Importing this module will throughs Module NotFoundError exception"
   ]
  },
  {
   "cell_type": "code",
   "execution_count": 2,
   "id": "eb83efae",
   "metadata": {
    "scrolled": true
   },
   "outputs": [
    {
     "ename": "ModuleNotFoundError",
     "evalue": "No module named 'areallyourpetsnamederic'",
     "output_type": "error",
     "traceback": [
      "\u001b[1;31m---------------------------------------------------------------------------\u001b[0m",
      "\u001b[1;31mModuleNotFoundError\u001b[0m                       Traceback (most recent call last)",
      "\u001b[1;32mC:\\Users\\RANIVA~1\\AppData\\Local\\Temp/ipykernel_39340/51184242.py\u001b[0m in \u001b[0;36m<module>\u001b[1;34m\u001b[0m\n\u001b[1;32m----> 1\u001b[1;33m \u001b[1;32mimport\u001b[0m \u001b[0mareallyourpetsnamederic\u001b[0m\u001b[1;33m\u001b[0m\u001b[1;33m\u001b[0m\u001b[0m\n\u001b[0m",
      "\u001b[1;31mModuleNotFoundError\u001b[0m: No module named 'areallyourpetsnamederic'"
     ]
    }
   ],
   "source": [
    "import areallyourpetsnamederic"
   ]
  },
  {
   "cell_type": "markdown",
   "id": "8e9c281c",
   "metadata": {},
   "source": [
    "12. If you had a bacon() feature in a spam module, what would you call it after importing spam?\n",
    "          This function can be called with \n",
    "          import spam\n",
    "          spam.bacon()"
   ]
  },
  {
   "cell_type": "markdown",
   "id": "1bc0ce85",
   "metadata": {},
   "source": [
    "13. What can you do to save a programme from crashing if it encounters an error?\n",
    "          Place the line of code that might cause an error in a try clause. or can write code in try block."
   ]
  },
  {
   "cell_type": "markdown",
   "id": "0ba611b0",
   "metadata": {},
   "source": [
    "14. What is the purpose of the try clause? What is the purpose of the except clause?\n",
    "         The code that could potentially cause an error goes in the try clause.\n",
    "         The code that executes if an error happens goes in the except clause."
   ]
  }
 ],
 "metadata": {
  "kernelspec": {
   "display_name": "Python 3 (ipykernel)",
   "language": "python",
   "name": "python3"
  },
  "language_info": {
   "codemirror_mode": {
    "name": "ipython",
    "version": 3
   },
   "file_extension": ".py",
   "mimetype": "text/x-python",
   "name": "python",
   "nbconvert_exporter": "python",
   "pygments_lexer": "ipython3",
   "version": "3.9.7"
  }
 },
 "nbformat": 4,
 "nbformat_minor": 5
}
